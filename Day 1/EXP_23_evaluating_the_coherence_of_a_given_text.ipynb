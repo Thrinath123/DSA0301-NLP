

pip install nltk
     

Requirement already satisfied: nltk in /usr/local/lib/python3.10/dist-packages (3.8.1)
Requirement already satisfied: click in /usr/local/lib/python3.10/dist-packages (from nltk) (8.1.7)
Requirement already satisfied: joblib in /usr/local/lib/python3.10/dist-packages (from nltk) (1.3.2)
Requirement already satisfied: regex>=2021.8.3 in /usr/local/lib/python3.10/dist-packages (from nltk) (2023.6.3)
Requirement already satisfied: tqdm in /usr/local/lib/python3.10/dist-packages (from nltk) (4.66.1)


import nltk
nltk.download('punkt')
     

[nltk_data] Downloading package punkt to /root/nltk_data...
[nltk_data]   Unzipping tokenizers/punkt.zip.

True


import nltk

def calculate_coherence(text):
    sentences = nltk.sent_tokenize(text)
    coherence_markers = ['however', 'therefore', 'consequently', 'nevertheless', 'furthermore', 'meanwhile', 'although', 'while', 'yet', 'moreover']

    total_markers = 0
    for sentence in sentences:
        tokenized_sentence = nltk.word_tokenize(sentence.lower())
        for marker in coherence_markers:
            if marker in tokenized_sentence:
                total_markers += 1

    return total_markers

text = "The weather was terrible. However, they decided to go for a picnic. Therefore, they packed their bags and left."

coherence_score = calculate_coherence(text)
print(f"Coherence Score: {coherence_score}")

     
