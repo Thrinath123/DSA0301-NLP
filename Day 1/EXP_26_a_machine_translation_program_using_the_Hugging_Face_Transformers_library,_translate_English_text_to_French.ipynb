pip install transformers datasets evaluate sacrebleu




from datasets import load_dataset

books = load_dataset("opus_books", "en-fr")

split_datasets = books["train"].train_test_split(test_size=0.2)

train_dataset = split_datasets["train"]
test_dataset = split_datasets["test"]

     

from transformers import AutoTokenizer

checkpoint = "t5-small"
tokenizer = AutoTokenizer.from_pretrained(checkpoint)
     

from transformers import T5ForConditionalGeneration, AutoTokenizer

# Specify the T5 model checkpoint
model_checkpoint = "t5-small"

# Initialize the tokenizer and model
tokenizer = AutoTokenizer.from_pretrained(model_checkpoint)
model = T5ForConditionalGeneration.from_pretrained(model_checkpoint)

# Your translate_to_french function here...

# Example usage
english_sentence = "most of the people likes cats"
french_translation = translate_to_french(english_sentence)
print(f"English: {english_sentence}")
print(f"French: {french_translation}")
     
