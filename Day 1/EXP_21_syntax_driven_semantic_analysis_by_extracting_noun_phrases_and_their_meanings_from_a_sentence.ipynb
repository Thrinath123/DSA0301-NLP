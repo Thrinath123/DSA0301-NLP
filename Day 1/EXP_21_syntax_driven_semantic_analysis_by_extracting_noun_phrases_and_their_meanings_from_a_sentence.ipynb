

pip install nltk
     

Requirement already satisfied: nltk in /usr/local/lib/python3.10/dist-packages (3.8.1)
Requirement already satisfied: click in /usr/local/lib/python3.10/dist-packages (from nltk) (8.1.7)
Requirement already satisfied: joblib in /usr/local/lib/python3.10/dist-packages (from nltk) (1.3.2)
Requirement already satisfied: regex>=2021.8.3 in /usr/local/lib/python3.10/dist-packages (from nltk) (2023.6.3)
Requirement already satisfied: tqdm in /usr/local/lib/python3.10/dist-packages (from nltk) (4.66.1)


import nltk
nltk.download('punkt')
nltk.download('averaged_perceptron_tagger')
nltk.download('wordnet')
     

[nltk_data] Downloading package punkt to /root/nltk_data...
[nltk_data]   Package punkt is already up-to-date!
[nltk_data] Downloading package averaged_perceptron_tagger to
[nltk_data]     /root/nltk_data...
[nltk_data]   Package averaged_perceptron_tagger is already up-to-
[nltk_data]       date!
[nltk_data] Downloading package wordnet to /root/nltk_data...

True


import nltk
from nltk.corpus import wordnet

sentence = "The quick brown fox jumps over the lazy dog"

tokens = nltk.word_tokenize(sentence)
tagged_tokens = nltk.pos_tag(tokens)

grammar = r"NP: {?*}"
chunk_parser = nltk.RegexpParser(grammar)
tree = chunk_parser.parse(tagged_tokens)

noun_phrases = []
for subtree in tree.subtrees():
    if subtree.label() == 'NP':
        noun_phrase_words = [word for word, tag in subtree.leaves()]
        noun_phrases.append(' '.join(noun_phrase_words))

def get_meanings(noun_phrase):
    synsets = wordnet.synsets(noun_phrase)
    meanings = []
    for synset in synsets:
        meanings.append({
            "Name": synset.name(),
            "Definition": synset.definition(),
            "Examples": synset.examples()
        })
    return meanings

noun_phrase_meanings = {}
for noun_phrase in noun_phrases:
    meanings = get_meanings(noun_phrase)
    noun_phrase_meanings[noun_phrase] = meanings

for noun_phrase, meanings in noun_phrase_meanings.items():
    print(f"Noun Phrase: '{noun_phrase}'")
    for meaning in meanings:
        print(f"\tSynset: {meaning['Name']}")
        print(f"\tDefinition: {meaning['Definition']}")
        if meaning['Examples']:
            print(f"\tExample: {', '.join(meaning['Examples'])}")
    print("\n")

     
