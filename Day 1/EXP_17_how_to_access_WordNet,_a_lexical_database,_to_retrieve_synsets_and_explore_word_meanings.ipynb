

pip install nltk
     

Requirement already satisfied: nltk in /usr/local/lib/python3.10/dist-packages (3.8.1)
Requirement already satisfied: click in /usr/local/lib/python3.10/dist-packages (from nltk) (8.1.7)
Requirement already satisfied: joblib in /usr/local/lib/python3.10/dist-packages (from nltk) (1.3.2)
Requirement already satisfied: regex>=2021.8.3 in /usr/local/lib/python3.10/dist-packages (from nltk) (2023.6.3)
Requirement already satisfied: tqdm in /usr/local/lib/python3.10/dist-packages (from nltk) (4.66.1)


import nltk
nltk.download('wordnet')
     

[nltk_data] Downloading package wordnet to /root/nltk_data...

True


from nltk.corpus import wordnet

word = "play"
synsets = wordnet.synsets(word)

if synsets:
    print(f"Synsets for '{word}':")
    for synset in synsets:
        print(f"Synset: {synset.name()} - Definition: {synset.definition()}")


    first_synset = synsets[0]
    print(f"\nHypernyms (more general terms) for '{word}':")
    for hypernym in first_synset.hypernyms():
        print(f"Hypernym: {hypernym.name()} - Definition: {hypernym.definition()}")

    print(f"\nHyponyms (more specific terms) for '{word}':")
    for hyponym in first_synset.hyponyms():
        print(f"Hyponym: {hyponym.name()} - Definition: {hyponym.definition()}")
else:
    print(f"No synsets found for '{word}'")
     
