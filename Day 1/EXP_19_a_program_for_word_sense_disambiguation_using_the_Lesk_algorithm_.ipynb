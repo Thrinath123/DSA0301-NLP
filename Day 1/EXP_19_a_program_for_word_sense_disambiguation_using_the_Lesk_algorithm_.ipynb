

pip install nltk
     

Requirement already satisfied: nltk in /usr/local/lib/python3.10/dist-packages (3.8.1)
Requirement already satisfied: click in /usr/local/lib/python3.10/dist-packages (from nltk) (8.1.7)
Requirement already satisfied: joblib in /usr/local/lib/python3.10/dist-packages (from nltk) (1.3.2)
Requirement already satisfied: regex>=2021.8.3 in /usr/local/lib/python3.10/dist-packages (from nltk) (2023.6.3)
Requirement already satisfied: tqdm in /usr/local/lib/python3.10/dist-packages (from nltk) (4.66.1)


import nltk
nltk.download('punkt')
nltk.download('stopwords')
nltk.download('wordnet')
     

[nltk_data] Downloading package punkt to /root/nltk_data...
[nltk_data]   Package punkt is already up-to-date!
[nltk_data] Downloading package stopwords to /root/nltk_data...
[nltk_data]   Package stopwords is already up-to-date!
[nltk_data] Downloading package wordnet to /root/nltk_data...

True


import nltk
from nltk.corpus import wordnet
from nltk.tokenize import word_tokenize
from nltk.corpus import stopwords

def lesk_algorithm(word, sentence):
    best_sense = None
    max_overlap = 0

    word = word.lower()
    context = set(word_tokenize(sentence.lower()))
    context = context.difference(set(stopwords.words('english')))

    synsets = wordnet.synsets(word)
    for sense in synsets:
        signature = set(word_tokenize(sense.definition()))
        signature = signature.union(set([word.lower() for word in sense.lemma_names()]))

        overlap = len(context.intersection(signature))

        if overlap > max_overlap:
            max_overlap = overlap
            best_sense = sense

    return best_sense

sentence = "I went to the bank to deposit money."
target_word = "bank"

sense = lesk_algorithm(target_word, sentence)

if sense:
    print(f"Target word: {target_word}")
    print(f"Best sense: {sense.name()} - Definition: {sense.definition()}")
else:
    print(f"No suitable sense found for '{target_word}' in the context of the sentence.")

     
